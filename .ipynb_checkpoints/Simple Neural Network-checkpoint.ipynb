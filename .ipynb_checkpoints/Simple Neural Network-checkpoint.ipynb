{
 "cells": [
  {
   "cell_type": "markdown",
   "id": "5fb99eee",
   "metadata": {},
   "source": [
    "#### Implementation of a Neural Network based Classification Module with gradient descent optimization from Scratch "
   ]
  },
  {
   "cell_type": "markdown",
   "id": "0ff219e9",
   "metadata": {},
   "source": [
    "#### The purpose of the notebook is to implement the forward and backward propagation "
   ]
  },
  {
   "cell_type": "code",
   "execution_count": 1,
   "id": "c36d6e06",
   "metadata": {},
   "outputs": [],
   "source": [
    "import numpy as np\n",
    "from matplotlib import pyplot as plt\n",
    "import scipy \n",
    "import pandas as pd"
   ]
  },
  {
   "cell_type": "code",
   "execution_count": 2,
   "id": "80a3ae04",
   "metadata": {},
   "outputs": [],
   "source": [
    "from tensorflow.keras.datasets import mnist"
   ]
  },
  {
   "cell_type": "code",
   "execution_count": 3,
   "id": "ac15a1ca",
   "metadata": {},
   "outputs": [],
   "source": [
    "(X_train, y_train), (X_test, Y_test) = mnist.load_data()"
   ]
  },
  {
   "cell_type": "code",
   "execution_count": 4,
   "id": "2a37ba64",
   "metadata": {},
   "outputs": [
    {
     "data": {
      "text/plain": [
       "Text(0.5, 1.0, 'Label 3')"
      ]
     },
     "execution_count": 4,
     "metadata": {},
     "output_type": "execute_result"
    },
    {
     "data": {
      "image/png": "[encoded data removed]",
      "text/plain": [
       "<Figure size 432x288 with 1 Axes>"
      ]
     },
     "metadata": {
      "needs_background": "light"
     },
     "output_type": "display_data"
    }
   ],
   "source": [
    "plt.imshow(X_train[10])\n",
    "plt.title(f\"Label {y_train[10]}\")"
   ]
  },
  {
   "cell_type": "code",
   "execution_count": 5,
   "id": "3a72dd46",
   "metadata": {},
   "outputs": [
    {
     "data": {
      "text/plain": [
       "((28, 28), (60000,))"
      ]
     },
     "execution_count": 5,
     "metadata": {},
     "output_type": "execute_result"
    }
   ],
   "source": [
    "# What is the shape of the Image?\n",
    "X_train[0].shape, y_train.shape # #convert y_train from (dim,) to (dim,1)"
   ]
  },
  {
   "cell_type": "code",
   "execution_count": 6,
   "id": "c94a2aee",
   "metadata": {},
   "outputs": [],
   "source": [
    "# since the data is image, the maximum value is 255 and min is 0, hence normalising will require division by 255\n",
    "X_train = X_train/255.\n",
    "X_test  = X_test/255."
   ]
  },
  {
   "cell_type": "code",
   "execution_count": 7,
   "id": "abd4da5b",
   "metadata": {},
   "outputs": [],
   "source": [
    "# Flattening the dataset into a single list i.e. (28,28) into a (28 *28) \n",
    "X_train = np.reshape(X_train, (len(X_train), (28*28)))"
   ]
  },
  {
   "cell_type": "code",
   "execution_count": 8,
   "id": "5f188093",
   "metadata": {},
   "outputs": [],
   "source": [
    "X_test = np.reshape(X_test, (len(X_test), (28*28)))"
   ]
  },
  {
   "cell_type": "code",
   "execution_count": 9,
   "id": "98748cac",
   "metadata": {},
   "outputs": [
    {
     "name": "stdout",
     "output_type": "stream",
     "text": [
      "Unique classes : [0 1 2 3 4 5 6 7 8 9]\n"
     ]
    }
   ],
   "source": [
    "# target variables have to be reshaped into a one-hot encoding\n",
    "print (f\"Unique classes : {np.unique(y_train)}\")"
   ]
  },
  {
   "cell_type": "code",
   "execution_count": 10,
   "id": "d5156af2",
   "metadata": {},
   "outputs": [],
   "source": [
    "# create one hot encoding representation of the dataset\n",
    "def one_hot(y,c ):\n",
    "    y_h = np.zeros((len(y), c))\n",
    "    y_h[np.arange(len(y)), y] = 1\n",
    "    return y_h\n",
    "\n",
    "train_y_hot = one_hot(y_train,10)"
   ]
  },
  {
   "cell_type": "code",
   "execution_count": 11,
   "id": "e0d94464",
   "metadata": {},
   "outputs": [
    {
     "data": {
      "text/plain": [
       "array([[0., 0., 0., ..., 0., 0., 0.],\n",
       "       [1., 0., 0., ..., 0., 0., 0.],\n",
       "       [0., 0., 0., ..., 0., 0., 0.],\n",
       "       ...,\n",
       "       [0., 0., 0., ..., 0., 0., 0.],\n",
       "       [0., 0., 0., ..., 0., 0., 0.],\n",
       "       [0., 0., 0., ..., 0., 1., 0.]])"
      ]
     },
     "execution_count": 11,
     "metadata": {},
     "output_type": "execute_result"
    }
   ],
   "source": [
    "train_y_hot"
   ]
  },
  {
   "cell_type": "code",
   "execution_count": 12,
   "id": "e99d2b90",
   "metadata": {},
   "outputs": [
    {
     "data": {
      "text/plain": [
       "1.0"
      ]
     },
     "execution_count": 12,
     "metadata": {},
     "output_type": "execute_result"
    }
   ],
   "source": [
    "np.max(X_train)"
   ]
  },
  {
   "cell_type": "markdown",
   "id": "4193d883",
   "metadata": {},
   "source": [
    "### Classification Module"
   ]
  },
  {
   "cell_type": "code",
   "execution_count": 13,
   "id": "bc8f8ecc",
   "metadata": {},
   "outputs": [],
   "source": [
    "class Classifier(object):\n",
    "    \n",
    "    def __init__(self, train_x, train_y, test_x, test_y, c):\n",
    "        self.train_x = train_x\n",
    "        self.train_y = train_y\n",
    "        self.test_x  = test_x\n",
    "        self.test_y  = test_y\n",
    "        self.m, self.n = self.train_x.shape #no of examples, number of features\n",
    "        self.c       = c\n",
    "        \n",
    "        self.losses = []\n",
    "        self.epochs  = 1000\n",
    "        self.learning_rate = 0.9\n",
    "        \n",
    "    # softmax = exp(x_i)/(sum_i(exp(x_i)))    \n",
    "    def softmax(self, z): \n",
    "        numerator = np.exp(z)\n",
    "        denominator = np.sum(np.exp(z),axis = 1)\n",
    "        for i,den in enumerate(denominator):\n",
    "            numerator[i]/=den\n",
    "        return numerator # [0.001, 0.05, 0.4,.,.,.]\n",
    "    \n",
    "    def initialise(self):\n",
    "        self.W = np.random.random((self.n, self.c))\n",
    "        self.b = np.random.random(self.c)\n",
    "    \n",
    "    def train(self):\n",
    "        X = self.train_x\n",
    "        y = self.train_y\n",
    "        self.initialise()\n",
    "        # z = m * x + c\n",
    "        # function(z) -> (0, 1)\n",
    "        for epoch in range(self.epochs):\n",
    "            #perform a linear regression step:\n",
    "            z = X@self.W + self.b\n",
    "            #apply a softmax\n",
    "            y_pred = self.softmax(z)\n",
    "            #calculate the cost\n",
    "            y_h = one_hot(y, self.c)\n",
    "            #calculate the gradient\n",
    "            grad_W = np.dot(X.T, (y_pred - y_h))/self.m\n",
    "            b_grad = np.sum(y_pred - y_h)/self.m\n",
    "\n",
    "            #move the parameters towards steepest descent\n",
    "            self.W = self.W - self.learning_rate * grad_W \n",
    "            self.b = self.b - self.learning_rate * b_grad\n",
    "\n",
    "            # compute the loss\n",
    "            # Calculating loss and appending it in the list.\n",
    "            loss = -np.mean(np.log(y_pred[np.arange(len(y)), y]))\n",
    "            self.losses.append(loss)\n",
    "            # Printing out the loss at every 100th iteration.\n",
    "            if epoch%100==0:\n",
    "                print('Epoch {epoch}==> Loss = {loss}'\n",
    "                      .format(epoch=epoch, loss=loss))\n",
    "            \n"
   ]
  },
  {
   "cell_type": "code",
   "execution_count": 14,
   "id": "834c7cd5",
   "metadata": {},
   "outputs": [],
   "source": [
    "classifier = Classifier(X_train, y_train, X_test, Y_test, 10)"
   ]
  },
  {
   "cell_type": "code",
   "execution_count": 15,
   "id": "d119aa30",
   "metadata": {},
   "outputs": [
    {
     "name": "stdout",
     "output_type": "stream",
     "text": [
      "Epoch 0==> Loss = 4.804527443645942\n",
      "Epoch 100==> Loss = 0.41172166192371235\n",
      "Epoch 200==> Loss = 0.35933667816221737\n",
      "Epoch 300==> Loss = 0.33667208121594216\n",
      "Epoch 400==> Loss = 0.3231687284548819\n",
      "Epoch 500==> Loss = 0.3138681911715463\n",
      "Epoch 600==> Loss = 0.30690395785960434\n",
      "Epoch 700==> Loss = 0.30140067467435033\n",
      "Epoch 800==> Loss = 0.2968871223046595\n",
      "Epoch 900==> Loss = 0.2930839730780524\n"
     ]
    }
   ],
   "source": [
    "classifier.train()"
   ]
  },
  {
   "cell_type": "code",
   "execution_count": 16,
   "id": "b04779c9",
   "metadata": {},
   "outputs": [],
   "source": [
    "def predict(X, classifier):\n",
    "    z = X@classifier.W + classifier.b\n",
    "    y_pred = classifier.softmax(z)\n",
    "    return np.argmax(y_pred, axis = 1)\n"
   ]
  },
  {
   "cell_type": "code",
   "execution_count": 17,
   "id": "8556e78f",
   "metadata": {},
   "outputs": [],
   "source": [
    "def accuracy(y, y_pred):\n",
    "    return np.sum(y == y_pred)/len(y)\n"
   ]
  },
  {
   "cell_type": "code",
   "execution_count": 18,
   "id": "258fa97b",
   "metadata": {},
   "outputs": [],
   "source": [
    "test_preds = predict(X_test, classifier)"
   ]
  },
  {
   "cell_type": "code",
   "execution_count": 19,
   "id": "042e482d",
   "metadata": {},
   "outputs": [
    {
     "data": {
      "text/plain": [
       "0.9188"
      ]
     },
     "execution_count": 19,
     "metadata": {},
     "output_type": "execute_result"
    }
   ],
   "source": [
    "accuracy(Y_test, test_preds)"
   ]
  },
  {
   "cell_type": "code",
   "execution_count": 20,
   "id": "2c395f9b",
   "metadata": {},
   "outputs": [
    {
     "data": {
      "image/png": "[encoded data removed]",
      "text/plain": [
       "<Figure size 1080x720 with 25 Axes>"
      ]
     },
     "metadata": {
      "needs_background": "light"
     },
     "output_type": "display_data"
    }
   ],
   "source": [
    "fig = plt.figure(figsize=(15,10))\n",
    "for i in range(25):  \n",
    "    ax = fig.add_subplot(5, 5, i+1)\n",
    "    ax.imshow(X_test[-i].reshape(28,28))\n",
    "    \n",
    "    ax.set_title('y: {y}'.format(y=Y_test[-i], y_hat=test_preds))\n",
    "    plt.axis('off')"
   ]
  },
  {
   "cell_type": "code",
   "execution_count": 36,
   "id": "e88b8ef5",
   "metadata": {},
   "outputs": [],
   "source": [
    "def softmax(z): \n",
    "    numerator = np.exp(z)\n",
    "    denominator = np.sum(np.exp(z))\n",
    "    print (denominator)\n",
    "    numerator/=denominator\n",
    "    return numerator # [0.001, 0.05, 0.4,.,.,.]"
   ]
  },
  {
   "cell_type": "code",
   "execution_count": 37,
   "id": "826d0152",
   "metadata": {},
   "outputs": [],
   "source": [
    "z = np.random.randn(10)"
   ]
  },
  {
   "cell_type": "code",
   "execution_count": 39,
   "id": "72b51301",
   "metadata": {},
   "outputs": [
    {
     "name": "stdout",
     "output_type": "stream",
     "text": [
      "16.408382205517878\n"
     ]
    },
    {
     "data": {
      "text/plain": [
       "4"
      ]
     },
     "execution_count": 39,
     "metadata": {},
     "output_type": "execute_result"
    }
   ],
   "source": [
    "np.argmax(softmax(z))"
   ]
  },
  {
   "cell_type": "code",
   "execution_count": 29,
   "id": "1c9a2ced",
   "metadata": {},
   "outputs": [
    {
     "data": {
      "text/plain": [
       "array([ 1.07481684, -0.3514086 ,  0.25299773,  0.2594046 ,  1.10812079,\n",
       "        0.41658551, -0.43103068,  0.93839591, -1.32718553,  0.15431208])"
      ]
     },
     "execution_count": 29,
     "metadata": {},
     "output_type": "execute_result"
    }
   ],
   "source": [
    "z"
   ]
  },
  {
   "cell_type": "code",
   "execution_count": null,
   "id": "b9c9c340",
   "metadata": {},
   "outputs": [],
   "source": [
    "glorot_initilisation, he_initialisation, normal_initialisation [0,1]*0.001"
   ]
  },
  {
   "cell_type": "code",
   "execution_count": 42,
   "id": "772a45ff",
   "metadata": {},
   "outputs": [
    {
     "data": {
      "text/html": [
       "<div>\n",
       "<style scoped>\n",
       "    .dataframe tbody tr th:only-of-type {\n",
       "        vertical-align: middle;\n",
       "    }\n",
       "\n",
       "    .dataframe tbody tr th {\n",
       "        vertical-align: top;\n",
       "    }\n",
       "\n",
       "    .dataframe thead th {\n",
       "        text-align: right;\n",
       "    }\n",
       "</style>\n",
       "<table border=\"1\" class=\"dataframe\">\n",
       "  <thead>\n",
       "    <tr style=\"text-align: right;\">\n",
       "      <th></th>\n",
       "      <th>0</th>\n",
       "      <th>1</th>\n",
       "      <th>2</th>\n",
       "      <th>3</th>\n",
       "      <th>4</th>\n",
       "      <th>5</th>\n",
       "    </tr>\n",
       "  </thead>\n",
       "  <tbody>\n",
       "    <tr>\n",
       "      <th>0</th>\n",
       "      <td>0.000191</td>\n",
       "      <td>0.000871</td>\n",
       "      <td>0.000249</td>\n",
       "      <td>0.000537</td>\n",
       "      <td>0.000721</td>\n",
       "      <td>0.000535</td>\n",
       "    </tr>\n",
       "    <tr>\n",
       "      <th>1</th>\n",
       "      <td>0.000260</td>\n",
       "      <td>0.000333</td>\n",
       "      <td>0.000599</td>\n",
       "      <td>0.000550</td>\n",
       "      <td>0.000285</td>\n",
       "      <td>0.000915</td>\n",
       "    </tr>\n",
       "    <tr>\n",
       "      <th>2</th>\n",
       "      <td>0.000805</td>\n",
       "      <td>0.000994</td>\n",
       "      <td>0.000172</td>\n",
       "      <td>0.000934</td>\n",
       "      <td>0.000968</td>\n",
       "      <td>0.000532</td>\n",
       "    </tr>\n",
       "    <tr>\n",
       "      <th>3</th>\n",
       "      <td>0.000463</td>\n",
       "      <td>0.000659</td>\n",
       "      <td>0.000112</td>\n",
       "      <td>0.000149</td>\n",
       "      <td>0.000157</td>\n",
       "      <td>0.000142</td>\n",
       "    </tr>\n",
       "    <tr>\n",
       "      <th>4</th>\n",
       "      <td>0.000844</td>\n",
       "      <td>0.000056</td>\n",
       "      <td>0.000424</td>\n",
       "      <td>0.000324</td>\n",
       "      <td>0.000556</td>\n",
       "      <td>0.000718</td>\n",
       "    </tr>\n",
       "    <tr>\n",
       "      <th>5</th>\n",
       "      <td>0.000443</td>\n",
       "      <td>0.000926</td>\n",
       "      <td>0.000966</td>\n",
       "      <td>0.000538</td>\n",
       "      <td>0.000314</td>\n",
       "      <td>0.000497</td>\n",
       "    </tr>\n",
       "    <tr>\n",
       "      <th>6</th>\n",
       "      <td>0.000485</td>\n",
       "      <td>0.000848</td>\n",
       "      <td>0.000979</td>\n",
       "      <td>0.000171</td>\n",
       "      <td>0.000761</td>\n",
       "      <td>0.000164</td>\n",
       "    </tr>\n",
       "    <tr>\n",
       "      <th>7</th>\n",
       "      <td>0.000885</td>\n",
       "      <td>0.000035</td>\n",
       "      <td>0.000566</td>\n",
       "      <td>0.000327</td>\n",
       "      <td>0.000630</td>\n",
       "      <td>0.000533</td>\n",
       "    </tr>\n",
       "    <tr>\n",
       "      <th>8</th>\n",
       "      <td>0.000598</td>\n",
       "      <td>0.000229</td>\n",
       "      <td>0.000292</td>\n",
       "      <td>0.000985</td>\n",
       "      <td>0.000374</td>\n",
       "      <td>0.000769</td>\n",
       "    </tr>\n",
       "    <tr>\n",
       "      <th>9</th>\n",
       "      <td>0.000065</td>\n",
       "      <td>0.000044</td>\n",
       "      <td>0.000394</td>\n",
       "      <td>0.000222</td>\n",
       "      <td>0.000045</td>\n",
       "      <td>0.000348</td>\n",
       "    </tr>\n",
       "  </tbody>\n",
       "</table>\n",
       "</div>"
      ],
      "text/plain": [
       "          0         1         2         3         4         5\n",
       "0  0.000191  0.000871  0.000249  0.000537  0.000721  0.000535\n",
       "1  0.000260  0.000333  0.000599  0.000550  0.000285  0.000915\n",
       "2  0.000805  0.000994  0.000172  0.000934  0.000968  0.000532\n",
       "3  0.000463  0.000659  0.000112  0.000149  0.000157  0.000142\n",
       "4  0.000844  0.000056  0.000424  0.000324  0.000556  0.000718\n",
       "5  0.000443  0.000926  0.000966  0.000538  0.000314  0.000497\n",
       "6  0.000485  0.000848  0.000979  0.000171  0.000761  0.000164\n",
       "7  0.000885  0.000035  0.000566  0.000327  0.000630  0.000533\n",
       "8  0.000598  0.000229  0.000292  0.000985  0.000374  0.000769\n",
       "9  0.000065  0.000044  0.000394  0.000222  0.000045  0.000348"
      ]
     },
     "execution_count": 42,
     "metadata": {},
     "output_type": "execute_result"
    }
   ],
   "source": [
    "pd.DataFrame(np.random.random((10, 6)))*0.001/sqrt(5)"
   ]
  },
  {
   "cell_type": "code",
   "execution_count": 43,
   "id": "842b4bf8",
   "metadata": {},
   "outputs": [
    {
     "data": {
      "text/plain": [
       "[<matplotlib.lines.Line2D at 0x166e0fb5520>]"
      ]
     },
     "execution_count": 43,
     "metadata": {},
     "output_type": "execute_result"
    },
    {
     "data": {
      "image/png": "[encoded data removed]",
      "text/plain": [
       "<Figure size 432x288 with 1 Axes>"
      ]
     },
     "metadata": {
      "needs_background": "light"
     },
     "output_type": "display_data"
    }
   ],
   "source": [
    "plt.plot(classifier.losses)"
   ]
  },
  {
   "cell_type": "code",
   "execution_count": 45,
   "id": "854887cf",
   "metadata": {},
   "outputs": [
    {
     "data": {
      "text/plain": [
       "(784, 10)"
      ]
     },
     "execution_count": 45,
     "metadata": {},
     "output_type": "execute_result"
    }
   ],
   "source": [
    "classifier.W.shape"
   ]
  },
  {
   "cell_type": "code",
   "execution_count": 46,
   "id": "236c2c24",
   "metadata": {},
   "outputs": [
    {
     "data": {
      "text/plain": [
       "(10,)"
      ]
     },
     "execution_count": 46,
     "metadata": {},
     "output_type": "execute_result"
    }
   ],
   "source": [
    "classifier.b.shape"
   ]
  },
  {
   "cell_type": "code",
   "execution_count": 48,
   "id": "7f7e585c",
   "metadata": {},
   "outputs": [
    {
     "data": {
      "text/plain": [
       "627200"
      ]
     },
     "execution_count": 48,
     "metadata": {},
     "output_type": "execute_result"
    }
   ],
   "source": [
    "784*10*10*8"
   ]
  },
  {
   "cell_type": "code",
   "execution_count": 50,
   "id": "6b0970db",
   "metadata": {},
   "outputs": [
    {
     "data": {
      "text/plain": [
       "array([[54.78652434, 50.41643696, 55.9696515 , ..., 55.04665237,\n",
       "        55.39696428, 54.28638798],\n",
       "       [75.1657935 , 50.48649232, 63.6624885 , ..., 61.99871891,\n",
       "        63.99250924, 62.17792907],\n",
       "       [35.27204259, 33.76310962, 40.3214733 , ..., 39.13992669,\n",
       "        38.51861292, 40.62821679],\n",
       "       ...,\n",
       "       [41.670009  , 41.63297515, 38.67427806, ..., 41.63488435,\n",
       "        48.03806546, 45.19583462],\n",
       "       [43.52139406, 33.83914786, 40.73943346, ..., 39.81977739,\n",
       "        39.30710285, 40.09778753],\n",
       "       [43.60333766, 36.11739434, 41.61382644, ..., 38.45316477,\n",
       "        46.7995332 , 44.12959823]])"
      ]
     },
     "execution_count": 50,
     "metadata": {},
     "output_type": "execute_result"
    }
   ],
   "source": [
    "X__ = classifier.train_x @ classifier.W + classifier.b\n",
    "X__ @ classifier.W1 + classifier.b1"
   ]
  },
  {
   "cell_type": "code",
   "execution_count": null,
   "id": "b6778ac1",
   "metadata": {},
   "outputs": [],
   "source": [
    "mx + x"
   ]
  }
 ],
 "metadata": {
  "kernelspec": {
   "display_name": "Python 3 (ipykernel)",
   "language": "python",
   "name": "python3"
  },
  "language_info": {
   "codemirror_mode": {
    "name": "ipython",
    "version": 3
   },
   "file_extension": ".py",
   "mimetype": "text/x-python",
   "name": "python",
   "nbconvert_exporter": "python",
   "pygments_lexer": "ipython3",
   "version": "3.8.12"
  }
 },
 "nbformat": 4,
 "nbformat_minor": 5
}
